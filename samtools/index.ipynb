{
 "cells": [
  {
   "cell_type": "markdown",
   "metadata": {},
   "source": [
    "\n",
    "## Intro to SAM/BAM format\n",
    "SAM (Sequence Alignment/Map) format is one of the most common file formats produced by many different pieces of alignment software, both for long and short read sequence data. It is a tab delineated text file, with 11 mandatory fields (listed below), plus header lines denoted with an `@` at the start of the line.\n",
    "\n",
    "SAM files are human readable, but can be quite large. An alternate format is the Binary Alignment/Map (BAM) file, which is binary compressed and not human readable, but is more compact and easy to work with. Most pipelines will use BAM format over SAM.\n",
    "\n",
    "\n",
    "## SAMtools\n",
    "[SAMtools](http://www.htslib.org/doc/samtools.html) is a suite of programs that are extremely useful for processing mapped reads and for downstream analysis. It has a ton of functions (which you can check out on the manual page), but we will go through several of the most common uses.\n",
    "\n",
    "### General pipeline\n",
    "Once you've obtained your mapped reads in BAM/SAM format (from BWA, bowtie, minimap, etc.), there are several steps needed before starting downstream analysis.\n",
    "\n",
    "*Filter*: generally this means removing unmapped reads from your file, which we will discuss below.\n",
    "\n",
    "*Sort*: sort the mapped reads by contig/scaffold and by coordinates. This can be done using `samtools sort`:"
   ]
  },
  {
   "cell_type": "code",
   "execution_count": null,
   "metadata": {
    "collapsed": true
   },
   "outputs": [],
   "source": [
    "samtools sort -o data/file.sorted.bam data/file.bam"
   ]
  },
  {
   "cell_type": "markdown",
   "metadata": {},
   "source": [
    "*Index*: creates a searchable index of your sorted BAM file, which is required for some programs."
   ]
  },
  {
   "cell_type": "code",
   "execution_count": null,
   "metadata": {
    "collapsed": true
   },
   "outputs": [],
   "source": [
    "samtools index data/file.sorted.bam"
   ]
  },
  {
   "cell_type": "markdown",
   "metadata": {},
   "source": [
    "One of the most useful tools for the first processing of mapped reads is `samtools view`, which allows you to view the contents of a BAM/SAM file in SAM format:"
   ]
  },
  {
   "cell_type": "code",
   "execution_count": null,
   "metadata": {
    "collapsed": true
   },
   "outputs": [],
   "source": [
    "samtools view data/file.sorted.bam | head"
   ]
  },
  {
   "cell_type": "markdown",
   "metadata": {},
   "source": [
    "\n",
    "| **Column**|  **Description** |\n",
    "|-----|---|\n",
    "|   1  | Read name  |\n",
    "|   2  | Bitwise flag  |\n",
    "|   3  |  Reference name |\n",
    "|   4  |  Leftmost mapping position |\n",
    "|   5  |  MAPQ quality score |\n",
    "|   6  |  CIGAR string  |\n",
    "|   7  |  Name of 2nd read in pair |\n",
    "|   8  |  Position of 2nd read in pair |\n",
    "|   9  |  Length of mapping segment |\n",
    "|   10  |  Sequence of segment  |\n",
    "|   11  |  Phred33 quality score at each position  |\n"
   ]
  },
  {
   "cell_type": "markdown",
   "metadata": {},
   "source": [
    "\n",
    "### Viewing specific regions\n",
    "By default `samtools view` prints all alignments, but you can specify a specific chromosome or subregion to only print alignments in that window:\n",
    "\n"
   ]
  },
  {
   "cell_type": "code",
   "execution_count": null,
   "metadata": {},
   "outputs": [],
   "source": [
    "samtools view data/file.sorted.bam 1 | head\n",
    "samtools view data/file.sorted.bam 1:1-1000 | head"
   ]
  },
  {
   "cell_type": "markdown",
   "metadata": {},
   "source": [
    "If you have numerous regions of interest, you can format them as a BED file and pass that to `samtools view`. This can be slow with large BAM files, as it does not does not use the index.\n"
   ]
  },
  {
   "cell_type": "code",
   "execution_count": null,
   "metadata": {},
   "outputs": [],
   "source": [
    "samtools view -h -o data/file.subset.bam -L data/subset.bed data/file.sorted.bam"
   ]
  },
  {
   "cell_type": "markdown",
   "metadata": {},
   "source": [
    "The `-o` option specifies an output file, rather than printing to screen. The `-h` option is important to remember, as it adds a header to the output. This is important, as many programs require a header to parse BAM/SAM files!"
   ]
  },
  {
   "cell_type": "markdown",
   "metadata": {},
   "source": [
    "### Converting between formats\n",
    "By default `samtools view` outputs in SAM format, so converting from BAM --> SAM is as easy as running `samtools view -h -o outfile.sam file.bam`.\n",
    "\n",
    "For SAM --> BAM, include the `-b` option:\n",
    "samtools view -b -h -o outfile.bam file.sam\n",
    "\n"
   ]
  },
  {
   "cell_type": "markdown",
   "metadata": {},
   "source": [
    "### SAM flags\n",
    "The second column in a BAM/SAM file is the *bitwise flag*. The flag value is an integer, which is the sum of a series of decimal values that give information about how a read is mapped\n",
    "\n",
    "| **Integer**|  **Description** |\n",
    "|-----|---|\n",
    "|   1  | read is paired  |\n",
    "|   2  | read mapped in proper pair  |\n",
    "|   4  |  read unmapped |\n",
    "|   8  |  mate is unmapped |\n",
    "|   16  |  read on reverse strand |\n",
    "|   32  |  mate on reverse strand  |\n",
    "|   64  |  first read in pair |\n",
    "|   128  |  second read in pair |\n",
    "|   256  |  not primary alignment |\n",
    "|   512  |  alignment fails quality checks  |\n",
    "|   1024  |  PCR or optical duplicate  |\n",
    "|   2048  |  supplementary alignment |\n",
    "\n",
    "So e.g., for a paired-end mapping data set, a flag = **99** (1+2+32+64) means the read is mapped along with its mate (1 and 2) and in the proper orientation (32 and 64)."
   ]
  },
  {
   "cell_type": "markdown",
   "metadata": {},
   "source": [
    "### Filtering reads\n",
    "Probably the most important flag to remember is **4**, which means the read is **unmapped**. Unmapped reads are most often filtered out. You can filter reads containing a given flag using the `-f` (only take reads that match given flags) and `-F` (only take reads that do **NOT** match given flag) options in `samtools view`.\n",
    "\n",
    "So to remove unmapped reads, you would run:"
   ]
  },
  {
   "cell_type": "code",
   "execution_count": null,
   "metadata": {},
   "outputs": [],
   "source": [
    "samtools view -F 4 -h data/file.sorted.bam | head"
   ]
  },
  {
   "cell_type": "markdown",
   "metadata": {},
   "source": [
    "This removes any read that contains the 4 flag (e.g. 77, 141, etc.). You can filter on any other criteria using flags as well, e.g. only gets reads that map in proper pair:"
   ]
  },
  {
   "cell_type": "code",
   "execution_count": null,
   "metadata": {},
   "outputs": [],
   "source": [
    "samtools view -f 2 -h data/file.sorted.bam | head"
   ]
  },
  {
   "cell_type": "markdown",
   "metadata": {},
   "source": [
    "(Note this uses `-f`, not `-F`!)"
   ]
  },
  {
   "cell_type": "markdown",
   "metadata": {},
   "source": [
    "## Downstream analysis\n",
    "\n",
    "### Calculating coverage\n",
    "One of the most common things you will want to know about your mapped reads is their coverage and depth, as this can impact your confidence in the assembly, the validity of your SNP calls, etc. There are many approaches you can take to calculate depth, several of which you can do with SAMtools.    \n",
    "\n",
    "`samtools coverage`: for each contig/scaffold in the BAM/SAM file, outputs several useful summary stats as a table:"
   ]
  },
  {
   "cell_type": "code",
   "execution_count": null,
   "metadata": {},
   "outputs": [],
   "source": [
    "samtools coverage data/file.sorted.bam"
   ]
  },
  {
   "cell_type": "markdown",
   "metadata": {},
   "source": [
    "Like with `samtools view`, can also specify coordinates:"
   ]
  },
  {
   "cell_type": "code",
   "execution_count": null,
   "metadata": {},
   "outputs": [],
   "source": [
    "samtools coverage data/file.sorted.bam -r 1"
   ]
  },
  {
   "cell_type": "markdown",
   "metadata": {},
   "source": [
    "As a quick way to visualize coverage, you can use the `-m` option create a histogram of coverage over a contig:\n"
   ]
  },
  {
   "cell_type": "code",
   "execution_count": null,
   "metadata": {},
   "outputs": [],
   "source": [
    "samtools coverage -m data/file.sorted.bam -r 1:1-1000"
   ]
  },
  {
   "cell_type": "markdown",
   "metadata": {},
   "source": [
    "You might also want to look at per-base coverage rather than the average. For this you can use `samtools depth`:"
   ]
  },
  {
   "cell_type": "code",
   "execution_count": null,
   "metadata": {},
   "outputs": [],
   "source": [
    "samtools depth -a data/file.sorted.bam -r 1:1-1000 | head"
   ]
  },
  {
   "cell_type": "markdown",
   "metadata": {},
   "source": [
    "This outputs a three column list, where the 1st column is the contig name, the 2nd is the position, and the 3rd is the depth over that base. This list is convenient for importing to programs like R, where you can plot e.g. a histogram showing the distribution of per-base depth, or distribution of depth over a contig."
   ]
  },
  {
   "cell_type": "markdown",
   "metadata": {},
   "source": [
    "### Stats\n",
    "Another useful function built into SAMtools is `samtools stats`, which gives some quick summary statistics about your mapping reads. The amount of information it generates is somewhat overkill in most cases, so we will just look at the summary:"
   ]
  },
  {
   "cell_type": "code",
   "execution_count": null,
   "metadata": {},
   "outputs": [],
   "source": [
    "samtools stats data/file.sorted.bam | grep ^SN | cut -f 2-"
   ]
  },
  {
   "cell_type": "markdown",
   "metadata": {},
   "source": [
    "## Other tricks\n",
    "\n",
    "### BAM to FASTQ/A\n",
    "If you want to extract the sequence info from the reads you can use `samtools fastq` or `samtools fasta`:\n"
   ]
  },
  {
   "cell_type": "code",
   "execution_count": null,
   "metadata": {},
   "outputs": [],
   "source": [
    "samtools fastq data/file.sorted.bam | head"
   ]
  },
  {
   "cell_type": "markdown",
   "metadata": {},
   "source": [
    "You can also output the pairs to different files.\n",
    "\n",
    "### Merge BAM files\n",
    "You can combine multiple sorted BAM/SAM files, which can be useful if you have done multiple rounds of mapping:\n",
    "\n",
    "`samtools merge file.bam file2.bam ...`\n",
    "\n",
    "Unless otherwise specified, the headers will also be merged.\n"
   ]
  },
  {
   "cell_type": "code",
   "execution_count": null,
   "metadata": {
    "collapsed": true
   },
   "outputs": [],
   "source": []
  }
 ],
 "metadata": {
  "kernelspec": {
   "display_name": "Bash",
   "language": "bash",
   "name": "bash"
  },
  "language_info": {
   "codemirror_mode": "shell",
   "file_extension": ".sh",
   "mimetype": "text/x-sh",
   "name": "bash"
  }
 },
 "nbformat": 4,
 "nbformat_minor": 2
}
