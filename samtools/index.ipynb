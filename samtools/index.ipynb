{
 "cells": [
  {
   "cell_type": "markdown",
   "metadata": {},
   "source": [
    "## Manipulating BAM/SAM files with SAMtools\n",
    "### Bioinformatics Coffee Hour - June 23, 2020",
    "## Intro to SAM/BAM format\n",
    "SAM (Sequence Alignment/Map) format is one of the most common file formats produced by many different pieces of alignment software, both for long and short read sequence data. It is a tab delineated text file, with 11 mandatory fields (listed below), plus header lines denoted with an `@` at the start of the line.\n",
    "\n",
    "SAM files are human readable, but can be quite large. An alternate format is the Binary Alignment/Map (BAM) file, which is binary compressed and not human readable, but is more compact and easy to work with. Most pipelines will use BAM format over SAM.\n",
    "## SAMtools\n",
    "[SAMtools](http://www.htslib.org/doc/samtools.html) is a suite of programs that are extremely useful for processing mapped reads and for downstream analysis. It has a ton of functions (which you can check out on the manual page), but we will go through several of the most common uses.\n",
    "\n",
    "### General pipeline\n",
    "Once you've obtained your mapped reads in BAM/SAM format (from BWA, bowtie, minimap, etc.), there are several steps needed before starting downstream analysis.\n",
    "*Filter*: generally this means removing unmapped reads from your file, which we will discuss below.\n",
    "*Sort*: sort the mapped reads by contig/scaffold and by coordinates. This can be done using `samtools sort`:\n",
    "\n",
    "`samtools sort -o file.sorted.bam file.bam`\n",
    "\n",
    "*Index*: creates a searchable index of your sorted BAM file, which is required for some programs.\n",
    "\n",
    "`samtools index file.sorted.bam`\n",
    "\n",
    "---\n",
    "One of the most useful tools for the first processing of mapped reads is `samtools view`, which allows you to view the contents of a BAM/SAM file in SAM format:\n",
    "\n"
   ]
 },
 {
  "cell_type": "code",
  "execution_count": null,
  "metadata": {},
  "outputs": [],
  "source": [
   "samtools view data/example.sorted.bam | head"
  ]
  }
 ],
 "metadata": {
  "kernelspec": {
   "display_name": "Bash",
   "language": "bash",
   "name": "bash"
  },
  "language_info": {
   "codemirror_mode": "shell",
   "file_extension": ".sh",
   "mimetype": "text/x-sh",
   "name": "bash"
  }
 },
 "nbformat": 4,
 "nbformat_minor": 4
}
